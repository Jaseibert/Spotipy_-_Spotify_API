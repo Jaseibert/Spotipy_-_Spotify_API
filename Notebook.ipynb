{
 "cells": [
  {
   "cell_type": "markdown",
   "metadata": {},
   "source": [
    "![alt text](https://storage.googleapis.com/pr-newsroom-wp/1/2018/11/Spotify_Logo_CMYK_Green.png)\n",
    "\n",
    "## Working with Spotify Data using SpotiPy\n",
    "-Jeremy Seibert\n",
    "\n",
    "Spotify is an amazing music streaming service that touches over 200 million customers. This is the notebook where I will show you how to work with the Spotify API using SpotiPy. This was the methodology that I used to create the datasets used in my spotify song prediction notebook. The SpotiPy package assists in the API connection to the Spotify backend's publicly available data. Once connected to the API, we can query an enormous amount of Spotify data related to their user, playlist, and song data. So lets jump in!"
   ]
  },
  {
   "cell_type": "markdown",
   "metadata": {},
   "source": [
    "### 1. Import the Necessities"
   ]
  },
  {
   "cell_type": "code",
   "execution_count": 2,
   "metadata": {},
   "outputs": [],
   "source": [
    "import spotipy\n",
    "from spotipy.oauth2 import SpotifyClientCredentials\n",
    "import spotipy.util as util\n",
    "import pandas as pd"
   ]
  },
  {
   "cell_type": "markdown",
   "metadata": {},
   "source": [
    "### 2. Setup your Spotify App Credentials\n",
    "\n",
    "As with most APIs, you will need to register with the service that you are wanting to connect too. This is exactly the case for Spotify. Spotify's Developers have made it easy for other developers to connect to the to their data. \n",
    "\n",
    " 1. You will first need to use your Spotify account to register for a developer account, or you can setup a free spotify account and then register for your developer account [Setup Spotify Dev Account here](https://developer.spotify.com/dashboard/). \n",
    "\n",
    "2. After registering setring up your developer account, you will need to Setup an App. \n",
    "    - Locate the Dashboard tab, and click it. \n",
    "    - Select \"Create a Client ID\"\n",
    "    - Fill in the name of the App, in this case I just put \"Notebook 1\"\n",
    "    - Fill in the App or Hardware Description, I put \"Jupyter Notebook\"\n",
    "    - Select what you are building, I put \"Website\"\n",
    "    - The question regarding a commercial integration simply means are yo trying to make money off of this? & the quick answer here is No (If you are a business, and are looking to integrate this to make money, check Yes)\n",
    "    - Agree to the Terms of Service.\n",
    "    \n",
    "    \n",
    "3. You should be redirected to your Dashboard, once there click the \"Edit settings\" button. \n",
    "\n",
    "4. In the Edit Settings popup, find the Redirect URIs blank and insert \"http://google.com/\" and MAKE SURE AT THE BOTTOM YOU CLICK SAVE. \n",
    "\n",
    "5. Go back to your dashboard an locate your Client ID and your Secret ID and fill them into the notebook. \n",
    "\n",
    "6. Your username is actually pretty easy to find. Go to your Spotify Application (The APP on you Computer, not the one we just created)\n",
    "\n",
    "    - Step 1: Navigate to any playlist that you have created. Here I chose one of the playlists analyzed in the spotify prediction notebook. \n",
    "        \n",
    "![alt text](./Documents/Step1.png)\n",
    "\n",
    "  - Step 2: Click on the Three Dot buttion once on a playlist that you created. \n",
    "    \n",
    "![alt text](./Documents/Step2.png)\n",
    "    \n",
    "   - Step 3: Paste the Copied URI into a Browser and there is your User ID and the Playlist ID.\n",
    "![alt text](./Documents/Step3.png)\n",
    "    \n",
    "    "
   ]
  },
  {
   "cell_type": "code",
   "execution_count": 3,
   "metadata": {},
   "outputs": [],
   "source": [
    "cid ='<Your App ID>'\n",
    "secret = '<Your Secret App ID>'\n",
    "username = \"<Your User ID>\""
   ]
  },
  {
   "cell_type": "markdown",
   "metadata": {},
   "source": [
    "### 3. Client Credential and Authorization Crediential Flow\n",
    "\n",
    "The next couple steps cover how to implement the Authorization and Client Crediential Code Flow necessary to access Spotifys API. We use the Spotipy class SpotifyClientCredentials to authenticate our requests using the information gathered in the previous step. We then pass the infromation into an instance or the Spotipy class Spotify with the client_credentials_manager variable as an argument. \n",
    "\n",
    "The next step that we need to take is to define the Authorization Scope. Here we are using two different scopes, the \"user-library-read\" and the \"playlist-read-private\" scopes. The first allows users to access a user's \"Your Music\" library, and access their saved tracks and albums. The second, allows users\tto access to a user's private playlists. Check out this to find more information about [Spotify's Authorization Scopes](https://developer.spotify.com/documentation/general/guides/scopes/)\n",
    "\n",
    "Next, we setup the Authorization Credentials Flow, which is done by using the util.prompt_for_user_token method. We pass the username, scope, Client ID, Client Secret, and the redirect URI each as arguments into the prompt for user token method. The last step, is to verify that the token is not null, and run it."
   ]
  },
  {
   "cell_type": "code",
   "execution_count": null,
   "metadata": {},
   "outputs": [
    {
     "name": "stdout",
     "output_type": "stream",
     "text": [
      "\n",
      "\n",
      "            User authentication requires interaction with your\n",
      "            web browser. Once you enter your credentials and\n",
      "            give authorization, you will be redirected to\n",
      "            a url.  Paste that url you were directed to to\n",
      "            complete the authorization.\n",
      "\n",
      "        \n",
      "Opened https://accounts.spotify.com/authorize?client_id=%3CYour+App+ID%3E&response_type=code&redirect_uri=http%3A%2F%2Fgoogle.com%2F&scope=playlist-read-private+user-library-read in your browser\n",
      "\n",
      "\n"
     ]
    }
   ],
   "source": [
    "#SpotiPy Client Credentials Flow\n",
    "client_credentials_manager = SpotifyClientCredentials(client_id=cid, client_secret=secret) \n",
    "sp = spotipy.Spotify(client_credentials_manager=client_credentials_manager)\n",
    "\n",
    "# Sets the Authorization Scope\n",
    "scope = 'user-library-read playlist-read-private'\n",
    "\n",
    "# SpotiPy Authorization Credenitals Flow\n",
    "token = util.prompt_for_user_token(username, scope,client_id=cid,client_secret=secret,redirect_uri='http://google.com/')\n",
    "\n",
    "if token is not None:\n",
    "    sp = spotipy.Spotify(auth=token)\n",
    "else:\n",
    "    print(\"Can't get token for\", username)"
   ]
  },
  {
   "cell_type": "markdown",
   "metadata": {},
   "source": [
    "### 4. Build a function to Get Track IDs \n",
    "\n",
    "This function will allow us to take a userID and playlistID and will return a list of the Spotify track IDs within the playlist. "
   ]
  },
  {
   "cell_type": "code",
   "execution_count": null,
   "metadata": {},
   "outputs": [],
   "source": [
    "def get_tracks(user,playlist):\n",
    "    ''' This function takes a user key and playlistID and returns the trackIDs within that users playlist.'''\n",
    "    uplaylist = sp.user_playlist(user,playlist)\n",
    "    tracks = uplaylist[\"tracks\"]\n",
    "    songs = tracks[\"items\"] \n",
    "    while tracks['next']:\n",
    "        tracks = sp.next(tracks)\n",
    "        for item in tracks[\"items\"]:\n",
    "            songs.append(item)\n",
    "    ids = [songs[i]['track']['id'] for i in range(len(songs))]\n",
    "    return ids"
   ]
  },
  {
   "cell_type": "markdown",
   "metadata": {},
   "source": [
    "### 5. Build a function to Get Track Audio Features \n",
    "\n",
    "This function will allow us to take a trackIDs and will return the audio features for each track. The audio features include metrics such as loudness, dancability, among others. You can read more about them [here](https://developer.spotify.com/documentation/web-api/reference/tracks/get-audio-features/)."
   ]
  },
  {
   "cell_type": "code",
   "execution_count": 1,
   "metadata": {},
   "outputs": [],
   "source": [
    "def get_audio_features(ids):\n",
    "    '''This function takes a track and gathers the track's Audio Features, and adds a new target feature column.'''\n",
    "    features = []\n",
    "    for i in range(0,len(ids),50):\n",
    "        audio_features = sp.audio_features(ids[i:i+50])\n",
    "        for track in audio_features:\n",
    "            features.append(track)\n",
    "    return features"
   ]
  },
  {
   "cell_type": "markdown",
   "metadata": {},
   "source": [
    "Using each of these functions I pulled together the dataset that is used in the spotify predictions notebook. I only cover a small portion of the potential from the Spotify API, and the data that can be accessed. \n",
    "\n",
    "Here are some more great resources:\n",
    "\n",
    "1. [Spotify Developer Site](https://developer.spotify.com/documentation/web-api/)\n",
    "\n",
    "2. [SpotiPy Documents](https://spotipy.readthedocs.io/en/latest/)"
   ]
  }
 ],
 "metadata": {
  "kernelspec": {
   "display_name": "Python 3",
   "language": "python",
   "name": "python3"
  },
  "language_info": {
   "codemirror_mode": {
    "name": "ipython",
    "version": 3
   },
   "file_extension": ".py",
   "mimetype": "text/x-python",
   "name": "python",
   "nbconvert_exporter": "python",
   "pygments_lexer": "ipython3",
   "version": "3.6.5"
  }
 },
 "nbformat": 4,
 "nbformat_minor": 2
}
