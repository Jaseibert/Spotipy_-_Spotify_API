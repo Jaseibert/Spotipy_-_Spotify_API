{
 "cells": [
  {
   "cell_type": "markdown",
   "metadata": {},
   "source": [
    "![alt text](https://storage.googleapis.com/pr-newsroom-wp/1/2018/11/Spotify_Logo_CMYK_Green.png)\n",
    "\n",
    "## Working with Spotify Data using SpotiPy\n",
    "-Jeremy Seibert\n",
    "\n",
    "Spotify is an amazing music streaming service that touches over 200 million customers. This is the notebook where I will show you how to work with the Spotify API using SpotiPy. This was the methodology that I used to create the datasets used in my spotify song prediction notebook. The SpotiPy package assists in the API connection to the Spotify backend's publicly available data. Once connected to the API, we can query an enormous amount of Spotify data related to their user, playlist, and song data. So lets jump in!"
   ]
  },
  {
   "cell_type": "markdown",
   "metadata": {},
   "source": [
    "### 1. Import the Necessities"
   ]
  },
  {
   "cell_type": "code",
   "execution_count": 1,
   "metadata": {},
   "outputs": [],
   "source": [
    "import spotipy\n",
    "from spotipy.oauth2 import SpotifyClientCredentials\n",
    "import spotipy.util as util\n",
    "import pandas as pd"
   ]
  },
  {
   "cell_type": "markdown",
   "metadata": {},
   "source": [
    "### 2. Setup your Spotify App Credentials\n",
    "\n",
    "As with most APIs, you will need to register with the service that you are wanting to connect too. This is exactly the case for Spotify. Spotify's Developers have made it easy for other developers to connect to the to their data. \n",
    "\n",
    "1. You will first need to use your Spotify account to register for a developer account, or you can setup a free spotify account and then register for your developer account [Setup Spotify Dev Account here](https://developer.spotify.com/dashboard/). \n",
    "\n",
    "2. After registering setring up your developer account, you will need to Setup an App. \n",
    "    - Locate the Dashboard tab, and click it. \n",
    "    - Select \"Create a Client ID\"\n",
    "    - Fill in the name of the App, in this case I just put \"Notebook 1\"\n",
    "    - Fill in the App or Hardware Description, I put \"Jupyter Notebook\"\n",
    "    - Select what you are building, I put \"Website\"\n",
    "    - The question regarding a commercial integration simply means are yo trying to make money off of this? & the quick answer here is No (If you are a business, and are looking to integrate this to make money, check Yes)\n",
    "    - Agree to the Terms of Service.\n",
    "    \n",
    "    \n",
    "3. You should be redirected to your Dashboard, once there click the \"Edit settings\" button. \n",
    "\n",
    "4. In the Edit Settings popup, find the Redirect URIs blank and insert \"http://google.com/\" and MAKE SURE AT THE BOTTOM YOU CLICK SAVE. \n",
    "\n",
    "5. Go back to your dashboard an locate your Client ID and your Secret ID and fill them into the notebook. "
   ]
  },
  {
   "cell_type": "code",
   "execution_count": 2,
   "metadata": {},
   "outputs": [],
   "source": [
    "cid ='<Your App ID>'\n",
    "secret = '<Your Secret App ID>'\n",
    "username = \"<Your User ID>\""
   ]
  },
  {
   "cell_type": "code",
   "execution_count": null,
   "metadata": {},
   "outputs": [],
   "source": [
    "cid ='77e685881f74452c83f138c8868f6202'\n",
    "secret = 'b39d5ef2444543fe867b2db80b69b962'\n",
    "username = '1249424214'"
   ]
  },
  {
   "cell_type": "code",
   "execution_count": null,
   "metadata": {},
   "outputs": [],
   "source": [
    "client_credentials_manager = SpotifyClientCredentials(client_id=cid, client_secret=secret) \n",
    "sp = spotipy.Spotify(client_credentials_manager=client_credentials_manager)\n",
    "scope = 'user-library-read playlist-read-private'\n",
    "token = util.prompt_for_user_token(username, scope,client_id=cid,client_secret=secret,redirect_uri='http://spotify.com/')\n",
    "if token is not None:\n",
    "    sp = spotipy.Spotify(auth=token)\n",
    "else:\n",
    "    print(\"Can't get token for\", username)"
   ]
  },
  {
   "cell_type": "code",
   "execution_count": null,
   "metadata": {},
   "outputs": [],
   "source": [
    "def get_tracks(user,playlist):\n",
    "    ''' This function takes a user key and playlistID and returns the trackIDs within that users playlist.'''\n",
    "    uplaylist = sp.user_playlist(user,playlist)\n",
    "    tracks = uplaylist[\"tracks\"]\n",
    "    songs = tracks[\"items\"] \n",
    "    while tracks['next']:\n",
    "        tracks = sp.next(tracks)\n",
    "        for item in tracks[\"items\"]:\n",
    "            songs.append(item)\n",
    "    ids = [songs[i]['track']['id'] for i in range(len(songs))]\n",
    "    return ids"
   ]
  },
  {
   "cell_type": "code",
   "execution_count": null,
   "metadata": {},
   "outputs": [],
   "source": [
    "def get_playlists():\n",
    "    '''This function specifically calls the playlist of Good (Liked) Songs, and the Bad (Unliked) Songs.'''\n",
    "    good_ids = get_tracks(\"<Your User ID>\",\"<Your Good Playlist ID>\")\n",
    "    bad_ids = get_tracks(\"<Your User ID>\",\"<Your Bad Playlist ID>\")\n",
    "    return good_ids,bad_ids"
   ]
  },
  {
   "cell_type": "code",
   "execution_count": null,
   "metadata": {},
   "outputs": [],
   "source": [
    "def get_audio_features(ids,target_val):\n",
    "    '''This function takes a track and gathers the track's Audio Features, and adds a new target feature column.'''\n",
    "    features = []\n",
    "    for i in range(0,len(ids),50):\n",
    "        audio_features = sp.audio_features(ids[i:i+50])\n",
    "        for track in audio_features:\n",
    "            features.append(track)\n",
    "            features[-1]['target'] = target_val\n",
    "    return features"
   ]
  },
  {
   "cell_type": "code",
   "execution_count": null,
   "metadata": {},
   "outputs": [],
   "source": [
    "def get_playlist_features():\n",
    "    '''This function calls the get_audio_features() function and declares the target features.'''\n",
    "    good_ids, bad_ids = get_playlists()\n",
    "    good_features = get_audio_features(good_ids,1)\n",
    "    bad_features = get_audio_features(bad_ids,0)\n",
    "    return good_features, bad_features"
   ]
  },
  {
   "cell_type": "code",
   "execution_count": null,
   "metadata": {},
   "outputs": [],
   "source": [
    "good_features, bad_features = get_playlist_features()\n",
    "good_data = pd.DataFrame(good_features)\n",
    "bad_data = pd.DataFrame(bad_features)\n",
    "total_data = pd.concat([good_data,bad_data], ignore_index=True)\n",
    "total_data.head()"
   ]
  }
 ],
 "metadata": {
  "kernelspec": {
   "display_name": "Python 3",
   "language": "python",
   "name": "python3"
  },
  "language_info": {
   "codemirror_mode": {
    "name": "ipython",
    "version": 3
   },
   "file_extension": ".py",
   "mimetype": "text/x-python",
   "name": "python",
   "nbconvert_exporter": "python",
   "pygments_lexer": "ipython3",
   "version": "3.6.5"
  }
 },
 "nbformat": 4,
 "nbformat_minor": 2
}
